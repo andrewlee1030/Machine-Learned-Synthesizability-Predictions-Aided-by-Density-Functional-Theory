{
 "cells": [
  {
   "cell_type": "markdown",
   "metadata": {},
   "source": [
    "The purpose of this script is to read each downloaded .csv file from ASM and identify 1-1-1 compositions with reported phase separation"
   ]
  },
  {
   "cell_type": "code",
   "execution_count": null,
   "metadata": {},
   "outputs": [],
   "source": [
    "import numpy as np\n",
    "import pandas as pd\n",
    "import pymatgen.core as mg\n",
    "import glob\n",
    "from collections import defaultdict"
   ]
  },
  {
   "cell_type": "markdown",
   "metadata": {},
   "source": [
    "## Get list of all downloaded cifs and create dictionary to write final list to"
   ]
  },
  {
   "cell_type": "code",
   "execution_count": null,
   "metadata": {},
   "outputs": [],
   "source": [
    "downloaded_comps = glob.glob('previous_downloads/*')\n",
    "results = defaultdict(list)"
   ]
  },
  {
   "cell_type": "markdown",
   "metadata": {},
   "source": [
    "## Define function to clean up APD phase formatting"
   ]
  },
  {
   "cell_type": "code",
   "execution_count": null,
   "metadata": {},
   "outputs": [],
   "source": [
    "def clean_APD_phase(phase):\n",
    "    remove_characters = ['orth2','stab','orth','ht1','ht2','vol','~','(',')','ht','rt','cal','ars','rhom','[',']']\n",
    "    # make sure strings in remove_characters doesn't have a subset of another one that falls before it!\n",
    "    # example: 'orth2' should not follow 'orth' because removing 'orth' from 'orth2' leaves a random '2' which will crash the code\n",
    "    for char in remove_characters:\n",
    "        phase = phase.replace(char,'')\n",
    "    return phase"
   ]
  },
  {
   "cell_type": "markdown",
   "metadata": {},
   "source": [
    "# Parse through each comp's files"
   ]
  },
  {
   "cell_type": "code",
   "execution_count": null,
   "metadata": {
    "scrolled": true
   },
   "outputs": [],
   "source": [
    "for comp_dir in downloaded_comps:\n",
    "    downloaded_files = sorted(glob.glob(f'{comp_dir}/*'))\n",
    "    comp = comp_dir.split('/')[-1]\n",
    "\n",
    "    comp_log = pd.read_csv(downloaded_files[0]) # first file should always be comp log after sorting\n",
    "    comp_reports = downloaded_files[1:]\n",
    "    \n",
    "    # check for all files that have 1-1-1 composition attempted\n",
    "    relevant_reports = comp_log[' Attempted Composition Range'] == 'full'\n",
    "    relevant_temperatures = [] \n",
    "    drop_temps = []\n",
    "    \n",
    "    for i, row in comp_log.iterrows():\n",
    "        if relevant_reports[i] == True: \n",
    "            relevant_temperatures += [row[' Temperature (Kelvin)']]\n",
    "            continue # skip ones that are already full composition\n",
    "            \n",
    "        attempted_range = row[' Attempted Composition Range'].split('-')\n",
    "        \n",
    "        if comp in attempted_range:\n",
    "            relevant_reports[i] = True # mark if 1-1-1 composition is covered\n",
    "            relevant_temperatures += [row[' Temperature (Kelvin)']]\n",
    "    \n",
    "    relevant_report_filenames = list(comp_log[relevant_reports]['Filename'])\n",
    "    \n",
    "    if len(relevant_report_filenames) == 0: # skip compositions where the 1-1-1 composition range was not reported\n",
    "        continue\n",
    "\n",
    "    \n",
    "    reported_phase = 'Phase separation' # assume phase separation\n",
    "    parse_error = False\n",
    "    \n",
    "\n",
    "    for i in range(len(relevant_report_filenames)):\n",
    "        report_fname = relevant_report_filenames[i]\n",
    "        try:\n",
    "            report = pd.read_csv(f'{comp_dir}/{report_fname}')\n",
    "        except:\n",
    "            continue\n",
    "        mg_111 = mg.Composition(comp)\n",
    "        \n",
    "        for i, row in report.iterrows():\n",
    "            \n",
    "            try:\n",
    "                try:\n",
    "                    phase = row['Formula'] \n",
    "                    mg_phase = mg.Composition(phase.replace('~','')) # need to slightly pre-format formula\n",
    "                except:\n",
    "                    try:\n",
    "                        phase = row['APD phase label, published phase label'].split('\\n----\\n')[0].split(' ')[0] # take APD phase label\n",
    "                    except:\n",
    "                        phase = row['APD phase label'].split('\\n----\\n')[0].split(' ')[0] # take APD phase label\n",
    "                        \n",
    "                    mg_phase = mg.Composition(clean_APD_phase(phase)) # need to slightly format formula\n",
    "                \n",
    "                if mg_phase == mg_111: # if 1-1-1 phase is actually reported\n",
    "                    try:\n",
    "                        reported_phase = row['Pearson symbol, space group'].split('\\r\\n')[-1].replace('~','')\n",
    "                    except:\n",
    "                        reported_phase = 'NaN'\n",
    "            except:\n",
    "                parse_error = True # mark a composition True if some phases not identifiable\n",
    "        if reported_phase != 'Phase separation': \n",
    "            drop_temps += [i]\n",
    "    try:\n",
    "        temperatures = np.delete(relevant_temperatures,drop_temps)\n",
    "    except:\n",
    "        temperatures = 'N/A'\n",
    "    \n",
    "    results['Composition'] += [comp]\n",
    "    results['1-1-1 Reported Phase'] += [reported_phase]\n",
    "    results['Phase Separating Temperatures (Kelvin)'] += [temperatures]\n",
    "    results['Parse Error'] += [parse_error]"
   ]
  },
  {
   "cell_type": "markdown",
   "metadata": {},
   "source": [
    "## Convert results into pandas dataframe"
   ]
  },
  {
   "cell_type": "code",
   "execution_count": null,
   "metadata": {},
   "outputs": [],
   "source": [
    "pd_results = pd.DataFrame.from_dict(results)"
   ]
  },
  {
   "cell_type": "markdown",
   "metadata": {},
   "source": [
    "## Save compositions reported to phase separate into .csv for 2nd round of checks for experimental reports"
   ]
  },
  {
   "cell_type": "code",
   "execution_count": null,
   "metadata": {},
   "outputs": [],
   "source": [
    "phase_separating = pd_results[(pd_results['1-1-1 Reported Phase'] == 'Phase separation') & (pd_results['Parse Error'] == False)]\n",
    "phase_separating.to_csv('../Data Files/ASM_phase_separating.csv')"
   ]
  },
  {
   "cell_type": "markdown",
   "metadata": {},
   "source": [
    "## Subtract compositions from icsd and springer combined lists since some experimentally reported compositions were initially missed"
   ]
  },
  {
   "cell_type": "code",
   "execution_count": null,
   "metadata": {},
   "outputs": [],
   "source": [
    "experimentally_reported = list(pd.read_csv('../Data Files/combined_results.csv')['Composition'])"
   ]
  },
  {
   "cell_type": "code",
   "execution_count": null,
   "metadata": {},
   "outputs": [],
   "source": [
    "def is_this_experimentally_reported(composition, exp_list = experimentally_reported):\n",
    "    if composition in exp_list:\n",
    "        return True\n",
    "    else:\n",
    "        return False"
   ]
  },
  {
   "cell_type": "code",
   "execution_count": null,
   "metadata": {},
   "outputs": [],
   "source": [
    "phase_separating['Experimentally Reported'] = phase_separating['Composition'].apply(is_this_experimentally_reported)"
   ]
  },
  {
   "cell_type": "code",
   "execution_count": null,
   "metadata": {},
   "outputs": [],
   "source": [
    "phase_separating = phase_separating[~phase_separating['Experimentally Reported']]\n",
    "\n",
    "phase_separating.to_csv('../Data Files/actual_phase_separating.csv')"
   ]
  }
 ],
 "metadata": {
  "interpreter": {
   "hash": "2a2ce6feceabe16081239645c3ccff6386a8ef75e380f6aa10f5bd5dbcbdf266"
  },
  "kernelspec": {
   "display_name": "Python 3.9.7 ('base')",
   "language": "python",
   "name": "python3"
  },
  "language_info": {
   "codemirror_mode": {
    "name": "ipython",
    "version": 3
   },
   "file_extension": ".py",
   "mimetype": "text/x-python",
   "name": "python",
   "nbconvert_exporter": "python",
   "pygments_lexer": "ipython3",
   "version": "3.9.7"
  }
 },
 "nbformat": 4,
 "nbformat_minor": 2
}
