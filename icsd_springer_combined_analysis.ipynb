{
 "cells": [
  {
   "cell_type": "code",
   "execution_count": 1,
   "metadata": {},
   "outputs": [],
   "source": [
    "import pandas as pd"
   ]
  },
  {
   "cell_type": "markdown",
   "metadata": {
    "deletable": false,
    "editable": false,
    "run_control": {
     "frozen": true
    }
   },
   "source": [
    "# read results files from icsd and springer"
   ]
  },
  {
   "cell_type": "code",
   "execution_count": 2,
   "metadata": {},
   "outputs": [],
   "source": [
    "icsd = pd.read_csv('../Data Files/icsd_results.csv')\n",
    "springer = pd.read_csv('../Data Files/springer_results.csv')\n",
    "\n",
    "combined = icsd.copy(deep=True)"
   ]
  },
  {
   "cell_type": "markdown",
   "metadata": {
    "deletable": false,
    "editable": false,
    "run_control": {
     "frozen": true
    }
   },
   "source": [
    "### define a useful helper function"
   ]
  },
  {
   "cell_type": "code",
   "execution_count": 3,
   "metadata": {},
   "outputs": [],
   "source": [
    "def jagged_concatenate(arr1,arr2):\n",
    "    concatenated = []\n",
    "    for i in range(len(arr1)):\n",
    "        concatenated += [arr1[i] + arr2[i]]\n",
    "    \n",
    "    return concatenated"
   ]
  },
  {
   "cell_type": "markdown",
   "metadata": {
    "deletable": false,
    "editable": false,
    "run_control": {
     "frozen": true
    }
   },
   "source": [
    "# find any discrepancies between the two sources"
   ]
  },
  {
   "cell_type": "code",
   "execution_count": 4,
   "metadata": {
    "scrolled": true
   },
   "outputs": [],
   "source": [
    "for i, row in icsd.iterrows():\n",
    "    icsd_comp = row['Composition']\n",
    "    springer_matches = springer.loc[springer['Composition'] == icsd_comp]\n",
    "    \n",
    "    if len(springer_matches) == 0: # icsd comp doesn't exist in springer... keep the icsd comp\n",
    "        continue \n",
    "    else:\n",
    "        icsd_sg = str(row['Space Groups'])\n",
    "        springer_sg = str(eval(str(springer_matches['Space Groups'].values))[0])\n",
    "        icsd_ptypes = str(row['Prototype'])\n",
    "        springer_ptypes = str(eval(str(springer_matches['Prototype'].values))[0])\n",
    "        icsd_filenames = str(row['Filename'])\n",
    "        springer_filenames = str(eval(str(springer_matches['Filename'].values))[0])\n",
    "        \n",
    "        if icsd_sg != springer_sg: # if space groups do not match, add space group and prototypes to the icsd entry\n",
    "            combined_sg = str(['SG CONFLICT', 'SG CONFLICT'])\n",
    "            combined_ptypes = str([['SG CONFLICT']])\n",
    "            combined_filenames = str([['SG CONFLICT']])\n",
    "                        \n",
    "            \n",
    "        elif icsd_ptypes != springer_ptypes: # if space groups do match, but prototypes don't match\n",
    "            combined_sg = icsd_sg\n",
    "            if len(eval(icsd_sg)) == 1: # if single space group\n",
    "                combined_ptypes = f'[{str(list(set(eval(icsd_ptypes)[0] + eval(springer_ptypes)[0])))}]' \n",
    "            else: # if multiple space groups\n",
    "                icsd_ptypes = eval(icsd_ptypes)\n",
    "                springer_ptypes = eval(springer_ptypes)\n",
    "                combined_ptypes = str(jagged_concatenate(icsd_ptypes,springer_ptypes))\n",
    "            combined_filenames = jagged_concatenate(eval(icsd_filenames),eval(springer_filenames))\n",
    "            \n",
    "        else: # if everything matches\n",
    "            combined_sg = icsd_sg\n",
    "            combined_ptypes = icsd_ptypes\n",
    "            combined_filenames = jagged_concatenate(eval(icsd_filenames),eval(springer_filenames))\n",
    "        \n",
    "        # update values in final dataframe\n",
    "        combined.at[i,'Space Groups'] = combined_sg\n",
    "        combined.at[i,'Prototype'] = combined_ptypes\n",
    "        combined.at[i,'Filename'] = str(combined_filenames)    \n",
    "        \n",
    "        # update error code\n",
    "        \n",
    "        # determine the error code\n",
    "        ## 0 or 3 = single space group, single prototype\n",
    "        ## 1 or 4 = single space group, multiple prototypes\n",
    "        ## 2 or 5 = multiple space groups, (multiple prototypes)\n",
    "        ## 6 = other error (there shouldn't be any 6's)\n",
    "        ## 7 = .cif file(s) couldn't be opened (FATAL)\n",
    "        ## 8 = space group conflict\n",
    "    \n",
    "        if len(eval(combined_sg)) == 1: \n",
    "            space_group_conflicts = False\n",
    "            if len(eval(combined_ptypes)[0]) == 1: single_prototype = True\n",
    "            else: single_prototype = False\n",
    "    \n",
    "        else: space_group_conflicts = True\n",
    "\n",
    "        if not space_group_conflicts and single_prototype: error_code = 0\n",
    "        elif not space_group_conflicts and not single_prototype: error_code = 1\n",
    "        elif space_group_conflicts: error_code = 2\n",
    "        elif combined_ptypes == 'Error': error_code = 7\n",
    "        else: error_code = 6\n",
    "        \n",
    "        combined.at[i,'Error Code'] = error_code\n",
    "        \n",
    "        # remove matches from springer dataframe\n",
    "        springer = springer.drop([springer_matches.index[0]])\n",
    "            \n",
    "# finally, append all remaining springer entries that remain\n",
    "\n",
    "combined = pd.concat([combined,springer],ignore_index=True)\n",
    "combined = combined.drop(columns = ['Unnamed: 0'])"
   ]
  },
  {
   "cell_type": "markdown",
   "metadata": {
    "deletable": false,
    "editable": false,
    "run_control": {
     "frozen": true
    }
   },
   "source": [
    "# save combined csv"
   ]
  },
  {
   "cell_type": "code",
   "execution_count": 5,
   "metadata": {},
   "outputs": [],
   "source": [
    "combined.to_csv('../Data Files/combined_results.csv')"
   ]
  }
 ],
 "metadata": {
  "interpreter": {
   "hash": "2a2ce6feceabe16081239645c3ccff6386a8ef75e380f6aa10f5bd5dbcbdf266"
  },
  "kernelspec": {
   "display_name": "Python 3.9.7 ('base')",
   "language": "python",
   "name": "python3"
  },
  "language_info": {
   "codemirror_mode": {
    "name": "ipython",
    "version": 3
   },
   "file_extension": ".py",
   "mimetype": "text/x-python",
   "name": "python",
   "nbconvert_exporter": "python",
   "pygments_lexer": "ipython3",
   "version": "3.9.7"
  }
 },
 "nbformat": 4,
 "nbformat_minor": 2
}
